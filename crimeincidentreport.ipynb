{
 "cells": [
  {
   "cell_type": "markdown",
   "metadata": {},
   "source": [
    "## Crime Incident Report"
   ]
  },
  {
   "cell_type": "code",
   "execution_count": 1,
   "metadata": {},
   "outputs": [],
   "source": [
    "#Import Packages\n",
    "import pandas as pd\n",
    "import numpy as np\n",
    "import datetime as dt\n",
    "import matplotlib.pyplot as plt\n",
    "%matplotlib inline"
   ]
  },
  {
   "cell_type": "markdown",
   "metadata": {},
   "source": [
    "#### Research Question/Objective\n",
    "Calculating the total number of crimes per hour for the 2 hours before the entertainment/control event, the hours during the entertainment/control event, and the 2 hours after the entertainment/control event."
   ]
  },
  {
   "cell_type": "markdown",
   "metadata": {},
   "source": [
    "#### Baltimore, Maryland Crime Data"
   ]
  },
  {
   "cell_type": "code",
   "execution_count": 13,
   "metadata": {},
   "outputs": [
    {
     "data": {
      "text/html": [
       "<div>\n",
       "<style scoped>\n",
       "    .dataframe tbody tr th:only-of-type {\n",
       "        vertical-align: middle;\n",
       "    }\n",
       "\n",
       "    .dataframe tbody tr th {\n",
       "        vertical-align: top;\n",
       "    }\n",
       "\n",
       "    .dataframe thead th {\n",
       "        text-align: right;\n",
       "    }\n",
       "</style>\n",
       "<table border=\"1\" class=\"dataframe\">\n",
       "  <thead>\n",
       "    <tr style=\"text-align: right;\">\n",
       "      <th></th>\n",
       "      <th>CrimeDate</th>\n",
       "      <th>CrimeTime</th>\n",
       "      <th>CrimeCode</th>\n",
       "      <th>Location</th>\n",
       "      <th>Description</th>\n",
       "      <th>Weapon</th>\n",
       "      <th>District</th>\n",
       "      <th>Neighborhood</th>\n",
       "      <th>Date</th>\n",
       "      <th>Time</th>\n",
       "    </tr>\n",
       "  </thead>\n",
       "  <tbody>\n",
       "    <tr>\n",
       "      <td>4</td>\n",
       "      <td>04/18/2020 12:00:00 AM</td>\n",
       "      <td>17:00:00</td>\n",
       "      <td>5D</td>\n",
       "      <td>AV &amp; 7TH ST</td>\n",
       "      <td>BURGLARY</td>\n",
       "      <td>NaN</td>\n",
       "      <td>SOUTHERN</td>\n",
       "      <td>NaN</td>\n",
       "      <td>2020-04-18</td>\n",
       "      <td>17</td>\n",
       "    </tr>\n",
       "    <tr>\n",
       "      <td>5</td>\n",
       "      <td>04/18/2020 12:00:00 AM</td>\n",
       "      <td>11:18:00</td>\n",
       "      <td>6C</td>\n",
       "      <td>4100 PULASKI HWY</td>\n",
       "      <td>LARCENY</td>\n",
       "      <td>NaN</td>\n",
       "      <td>EASTERN</td>\n",
       "      <td>KRESSON</td>\n",
       "      <td>2020-04-18</td>\n",
       "      <td>11</td>\n",
       "    </tr>\n",
       "    <tr>\n",
       "      <td>7</td>\n",
       "      <td>04/18/2020 12:00:00 AM</td>\n",
       "      <td>16:00:00</td>\n",
       "      <td>5A</td>\n",
       "      <td>1600 WESTWOOD AVE</td>\n",
       "      <td>BURGLARY</td>\n",
       "      <td>NaN</td>\n",
       "      <td>WESTERN</td>\n",
       "      <td>SANDTOWN-WINCHESTER</td>\n",
       "      <td>2020-04-18</td>\n",
       "      <td>16</td>\n",
       "    </tr>\n",
       "    <tr>\n",
       "      <td>15</td>\n",
       "      <td>04/18/2020 12:00:00 AM</td>\n",
       "      <td>16:28:00</td>\n",
       "      <td>4E</td>\n",
       "      <td>600 OLDHAM ST</td>\n",
       "      <td>COMMON ASSAULT</td>\n",
       "      <td>NaN</td>\n",
       "      <td>SOUTHEAST</td>\n",
       "      <td>GREEKTOWN</td>\n",
       "      <td>2020-04-18</td>\n",
       "      <td>16</td>\n",
       "    </tr>\n",
       "    <tr>\n",
       "      <td>16</td>\n",
       "      <td>04/18/2020 12:00:00 AM</td>\n",
       "      <td>13:30:00</td>\n",
       "      <td>4C</td>\n",
       "      <td>4300 ADELLE TER</td>\n",
       "      <td>AGG. ASSAULT</td>\n",
       "      <td>OTHER</td>\n",
       "      <td>SOUTHWEST</td>\n",
       "      <td>IRVINGTON</td>\n",
       "      <td>2020-04-18</td>\n",
       "      <td>13</td>\n",
       "    </tr>\n",
       "  </tbody>\n",
       "</table>\n",
       "</div>"
      ],
      "text/plain": [
       "                 CrimeDate CrimeTime CrimeCode           Location  \\\n",
       "4   04/18/2020 12:00:00 AM  17:00:00        5D        AV & 7TH ST   \n",
       "5   04/18/2020 12:00:00 AM  11:18:00        6C   4100 PULASKI HWY   \n",
       "7   04/18/2020 12:00:00 AM  16:00:00        5A  1600 WESTWOOD AVE   \n",
       "15  04/18/2020 12:00:00 AM  16:28:00        4E      600 OLDHAM ST   \n",
       "16  04/18/2020 12:00:00 AM  13:30:00        4C    4300 ADELLE TER   \n",
       "\n",
       "       Description Weapon   District         Neighborhood        Date Time  \n",
       "4         BURGLARY    NaN   SOUTHERN                  NaN  2020-04-18   17  \n",
       "5          LARCENY    NaN    EASTERN              KRESSON  2020-04-18   11  \n",
       "7         BURGLARY    NaN    WESTERN  SANDTOWN-WINCHESTER  2020-04-18   16  \n",
       "15  COMMON ASSAULT    NaN  SOUTHEAST            GREEKTOWN  2020-04-18   16  \n",
       "16    AGG. ASSAULT  OTHER  SOUTHWEST            IRVINGTON  2020-04-18   13  "
      ]
     },
     "execution_count": 13,
     "metadata": {},
     "output_type": "execute_result"
    }
   ],
   "source": [
    "#Read in Data\n",
    "crimedata = pd.read_csv(\"/Users/ebadamun/Downloads/Crime_Report_2013.csv\")\n",
    "#Create Date Column in specified datetime format\n",
    "crimedata[\"Date\"] = pd.to_datetime(crimedata[\"CrimeDate\"], format='%m/%d/%Y %H:%M:%S %p').dt.strftime(\"%Y-%m-%d\")\n",
    "#Create Time Column in specific datetime format - i.e. rounding to HR\n",
    "crimedata[\"Time\"] = pd.to_datetime(crimedata[\"CrimeTime\"], format='%H:%M:%S').dt.strftime(\"%H\")\n",
    "#Selecting Crimes only between the hours of 11-18 (24 Hr) i.e. the hours during a Normal Baltimore Raven's Sunday Afternoon Football Game\n",
    "crimedatanew = crimedata[(crimedata[\"Time\"] >= '11') & (crimedata[\"Time\"] < '18')]\n",
    "crimedatanew.head()"
   ]
  },
  {
   "cell_type": "markdown",
   "metadata": {},
   "source": [
    "#### Baltimore Ravens Schedule 2014"
   ]
  },
  {
   "cell_type": "code",
   "execution_count": 14,
   "metadata": {},
   "outputs": [
    {
     "data": {
      "text/html": [
       "<div>\n",
       "<style scoped>\n",
       "    .dataframe tbody tr th:only-of-type {\n",
       "        vertical-align: middle;\n",
       "    }\n",
       "\n",
       "    .dataframe tbody tr th {\n",
       "        vertical-align: top;\n",
       "    }\n",
       "\n",
       "    .dataframe thead th {\n",
       "        text-align: right;\n",
       "    }\n",
       "</style>\n",
       "<table border=\"1\" class=\"dataframe\">\n",
       "  <thead>\n",
       "    <tr style=\"text-align: right;\">\n",
       "      <th></th>\n",
       "      <th>Day</th>\n",
       "      <th>Date</th>\n",
       "      <th>Time</th>\n",
       "      <th>Time (HR)</th>\n",
       "    </tr>\n",
       "  </thead>\n",
       "  <tbody>\n",
       "    <tr>\n",
       "      <td>0</td>\n",
       "      <td>Sun</td>\n",
       "      <td>2014-09-07</td>\n",
       "      <td>1:02PM ET</td>\n",
       "      <td>13</td>\n",
       "    </tr>\n",
       "    <tr>\n",
       "      <td>1</td>\n",
       "      <td>Thu</td>\n",
       "      <td>2014-09-11</td>\n",
       "      <td>8:28PM ET</td>\n",
       "      <td>20</td>\n",
       "    </tr>\n",
       "    <tr>\n",
       "      <td>2</td>\n",
       "      <td>Sun</td>\n",
       "      <td>2014-09-21</td>\n",
       "      <td>1:02PM ET</td>\n",
       "      <td>13</td>\n",
       "    </tr>\n",
       "    <tr>\n",
       "      <td>3</td>\n",
       "      <td>Sun</td>\n",
       "      <td>2014-09-28</td>\n",
       "      <td>1:02PM ET</td>\n",
       "      <td>13</td>\n",
       "    </tr>\n",
       "    <tr>\n",
       "      <td>4</td>\n",
       "      <td>Sun</td>\n",
       "      <td>2014-10-05</td>\n",
       "      <td>1:03PM ET</td>\n",
       "      <td>13</td>\n",
       "    </tr>\n",
       "    <tr>\n",
       "      <td>5</td>\n",
       "      <td>Sun</td>\n",
       "      <td>2014-10-12</td>\n",
       "      <td>1:02PM ET</td>\n",
       "      <td>13</td>\n",
       "    </tr>\n",
       "    <tr>\n",
       "      <td>6</td>\n",
       "      <td>Sun</td>\n",
       "      <td>2014-10-19</td>\n",
       "      <td>1:02PM ET</td>\n",
       "      <td>13</td>\n",
       "    </tr>\n",
       "    <tr>\n",
       "      <td>7</td>\n",
       "      <td>Sun</td>\n",
       "      <td>2014-10-26</td>\n",
       "      <td>1:02PM ET</td>\n",
       "      <td>13</td>\n",
       "    </tr>\n",
       "    <tr>\n",
       "      <td>8</td>\n",
       "      <td>Sun</td>\n",
       "      <td>2014-11-02</td>\n",
       "      <td>8:30PM ET</td>\n",
       "      <td>20</td>\n",
       "    </tr>\n",
       "    <tr>\n",
       "      <td>9</td>\n",
       "      <td>Sun</td>\n",
       "      <td>2014-11-09</td>\n",
       "      <td>1:03PM ET</td>\n",
       "      <td>13</td>\n",
       "    </tr>\n",
       "    <tr>\n",
       "      <td>10</td>\n",
       "      <td>NaN</td>\n",
       "      <td>NaN</td>\n",
       "      <td>NaN</td>\n",
       "      <td>NaT</td>\n",
       "    </tr>\n",
       "    <tr>\n",
       "      <td>11</td>\n",
       "      <td>Mon</td>\n",
       "      <td>2014-11-24</td>\n",
       "      <td>8:30PM ET</td>\n",
       "      <td>20</td>\n",
       "    </tr>\n",
       "    <tr>\n",
       "      <td>12</td>\n",
       "      <td>Sun</td>\n",
       "      <td>2014-11-30</td>\n",
       "      <td>1:02PM ET</td>\n",
       "      <td>13</td>\n",
       "    </tr>\n",
       "    <tr>\n",
       "      <td>13</td>\n",
       "      <td>Sun</td>\n",
       "      <td>2014-12-07</td>\n",
       "      <td>1:02PM ET</td>\n",
       "      <td>13</td>\n",
       "    </tr>\n",
       "    <tr>\n",
       "      <td>14</td>\n",
       "      <td>Sun</td>\n",
       "      <td>2014-12-14</td>\n",
       "      <td>1:02PM ET</td>\n",
       "      <td>13</td>\n",
       "    </tr>\n",
       "    <tr>\n",
       "      <td>15</td>\n",
       "      <td>Sun</td>\n",
       "      <td>2014-12-21</td>\n",
       "      <td>1:02PM ET</td>\n",
       "      <td>13</td>\n",
       "    </tr>\n",
       "    <tr>\n",
       "      <td>16</td>\n",
       "      <td>Sun</td>\n",
       "      <td>2014-12-28</td>\n",
       "      <td>1:02PM ET</td>\n",
       "      <td>13</td>\n",
       "    </tr>\n",
       "    <tr>\n",
       "      <td>17</td>\n",
       "      <td>NaN</td>\n",
       "      <td>Playoffs</td>\n",
       "      <td>NaN</td>\n",
       "      <td>NaT</td>\n",
       "    </tr>\n",
       "    <tr>\n",
       "      <td>18</td>\n",
       "      <td>Sat</td>\n",
       "      <td>2014-01-03</td>\n",
       "      <td>8:15PM ET</td>\n",
       "      <td>20</td>\n",
       "    </tr>\n",
       "    <tr>\n",
       "      <td>19</td>\n",
       "      <td>Sat</td>\n",
       "      <td>2014-01-10</td>\n",
       "      <td>4:35PM ET</td>\n",
       "      <td>16</td>\n",
       "    </tr>\n",
       "  </tbody>\n",
       "</table>\n",
       "</div>"
      ],
      "text/plain": [
       "    Day        Date       Time Time (HR)\n",
       "0   Sun  2014-09-07  1:02PM ET        13\n",
       "1   Thu  2014-09-11  8:28PM ET        20\n",
       "2   Sun  2014-09-21  1:02PM ET        13\n",
       "3   Sun  2014-09-28  1:02PM ET        13\n",
       "4   Sun  2014-10-05  1:03PM ET        13\n",
       "5   Sun  2014-10-12  1:02PM ET        13\n",
       "6   Sun  2014-10-19  1:02PM ET        13\n",
       "7   Sun  2014-10-26  1:02PM ET        13\n",
       "8   Sun  2014-11-02  8:30PM ET        20\n",
       "9   Sun  2014-11-09  1:03PM ET        13\n",
       "10  NaN         NaN        NaN       NaT\n",
       "11  Mon  2014-11-24  8:30PM ET        20\n",
       "12  Sun  2014-11-30  1:02PM ET        13\n",
       "13  Sun  2014-12-07  1:02PM ET        13\n",
       "14  Sun  2014-12-14  1:02PM ET        13\n",
       "15  Sun  2014-12-21  1:02PM ET        13\n",
       "16  Sun  2014-12-28  1:02PM ET        13\n",
       "17  NaN    Playoffs        NaN       NaT\n",
       "18  Sat  2014-01-03  8:15PM ET        20\n",
       "19  Sat  2014-01-10  4:35PM ET        16"
      ]
     },
     "execution_count": 14,
     "metadata": {},
     "output_type": "execute_result"
    }
   ],
   "source": [
    "#Read in Data\n",
    "baltrav = pd.read_csv(\"/Users/ebadamun/Downloads/baltravens.csv\")\n",
    "#Create Time Column in specific datetime format - i.e. rounding to HR\n",
    "baltrav[\"Time\"] = pd.to_datetime(baltrav[\"Unnamed: 3\"], errors='coerce').dt.strftime(\"%H\")\n",
    "#Selecting only relevent Columns from dataset\n",
    "baltrav = baltrav[[\"Day\",\"Date\",\"Unnamed: 3\", \"Time\"]]\n",
    "#Renaming columns\n",
    "baltrav.columns = [\"Day\",\"Date\", \"Time\", \"Time (HR)\"]\n",
    "baltrav"
   ]
  },
  {
   "cell_type": "markdown",
   "metadata": {},
   "source": [
    "### Crime Numbers During Baltimore Ravens Football Games (Sunday Afternoon)"
   ]
  },
  {
   "cell_type": "markdown",
   "metadata": {},
   "source": [
    "From the Baltimore Ravens Schedule 2014 Dataframe, we see that the majority of games played by the Baltimore Ravens occurred on Sunday Afternoons, usually at 1:02/1:03PM ET. Therefore, I selected the first and third game and conducted further investigation to answer the Research Question. \n",
    "<br>\n",
    "<br>\n",
    "These dates are:\n",
    "<br>\n",
    "<br>\n",
    "2014-09-07 (Sun), @1:02PM ET (13 in 24-Hr Format)\n",
    "<br>\n",
    "2014-11-09 (Sun), @1:02PM ET (13 in 24-Hr Format)\n",
    "<br>\n",
    "<br>\n",
    "(Reference the 'baltrav' dataset above)\n",
    "<br>\n",
    "<br>\n",
    "Because these games occurred on a normal Sunday Afternoon, the times of these games were as follows: Since both football games occurred around the times 1:00PM, we will use the 24-Hr format and create a dataframe with two hours before (Hours 11-12), the time during the game (around 3 hours) (Hours 13-15), and two hours after (Hours 16-17). Then, we will group the dataframe by Time in 24-Hr format to see the Total Number of Crimes that occurred during each specific hour. To display the results, a scatterplot was used."
   ]
  },
  {
   "cell_type": "markdown",
   "metadata": {},
   "source": [
    "#### 2014-09-07 (Sunday Afternoon Football)"
   ]
  },
  {
   "cell_type": "code",
   "execution_count": 4,
   "metadata": {},
   "outputs": [
    {
     "data": {
      "text/html": [
       "<div>\n",
       "<style scoped>\n",
       "    .dataframe tbody tr th:only-of-type {\n",
       "        vertical-align: middle;\n",
       "    }\n",
       "\n",
       "    .dataframe tbody tr th {\n",
       "        vertical-align: top;\n",
       "    }\n",
       "\n",
       "    .dataframe thead th {\n",
       "        text-align: right;\n",
       "    }\n",
       "</style>\n",
       "<table border=\"1\" class=\"dataframe\">\n",
       "  <thead>\n",
       "    <tr style=\"text-align: right;\">\n",
       "      <th></th>\n",
       "      <th>Time</th>\n",
       "      <th>Total Number of Crimes</th>\n",
       "    </tr>\n",
       "  </thead>\n",
       "  <tbody>\n",
       "    <tr>\n",
       "      <td>0</td>\n",
       "      <td>11</td>\n",
       "      <td>5</td>\n",
       "    </tr>\n",
       "    <tr>\n",
       "      <td>1</td>\n",
       "      <td>12</td>\n",
       "      <td>9</td>\n",
       "    </tr>\n",
       "    <tr>\n",
       "      <td>2</td>\n",
       "      <td>13</td>\n",
       "      <td>7</td>\n",
       "    </tr>\n",
       "    <tr>\n",
       "      <td>3</td>\n",
       "      <td>14</td>\n",
       "      <td>3</td>\n",
       "    </tr>\n",
       "    <tr>\n",
       "      <td>4</td>\n",
       "      <td>15</td>\n",
       "      <td>10</td>\n",
       "    </tr>\n",
       "    <tr>\n",
       "      <td>5</td>\n",
       "      <td>16</td>\n",
       "      <td>8</td>\n",
       "    </tr>\n",
       "    <tr>\n",
       "      <td>6</td>\n",
       "      <td>17</td>\n",
       "      <td>11</td>\n",
       "    </tr>\n",
       "  </tbody>\n",
       "</table>\n",
       "</div>"
      ],
      "text/plain": [
       "  Time  Total Number of Crimes\n",
       "0   11                       5\n",
       "1   12                       9\n",
       "2   13                       7\n",
       "3   14                       3\n",
       "4   15                      10\n",
       "5   16                       8\n",
       "6   17                      11"
      ]
     },
     "execution_count": 4,
     "metadata": {},
     "output_type": "execute_result"
    }
   ],
   "source": [
    "#Total Number of Crimes - 2014-09-07 between Hours 11-17\n",
    "crimedate1 = crimedatanew.loc[crimedatanew[\"Date\"] == \"2014-09-07\"]\n",
    "crimedate1 = crimedate1[[\"Date\"]].groupby(crimedate1[\"Time\"]).agg(\"count\")\n",
    "crimedate1 = crimedate1.reset_index()\n",
    "crimedate1.columns = [\"Time\", \"Total Number of Crimes\"]\n",
    "crimedate1"
   ]
  },
  {
   "cell_type": "code",
   "execution_count": 5,
   "metadata": {
    "scrolled": true
   },
   "outputs": [
    {
     "data": {
      "text/plain": [
       "Text(0.5, 1.0, 'Total Number of Crimes 2 Hrs Before, During, & 2 Hrs After the 2014-09-07 Ravens Game')"
      ]
     },
     "execution_count": 5,
     "metadata": {},
     "output_type": "execute_result"
    },
    {
     "data": {
      "image/png": "[encoded data removed]",
      "text/plain": [
       "<Figure size 432x288 with 1 Axes>"
      ]
     },
     "metadata": {
      "needs_background": "light"
     },
     "output_type": "display_data"
    }
   ],
   "source": [
    "#2014-09-07 Graph\n",
    "plt.scatter(crimedate1[\"Time\"], crimedate1[\"Total Number of Crimes\"])\n",
    "plt.xlabel('Time in Hours (24-hr)')\n",
    "plt.ylabel('Total Number of Crimes (Sunday Afternoon)')\n",
    "plt.title('Total Number of Crimes 2 Hrs Before, During, & 2 Hrs After the 2014-09-07 Ravens Game')"
   ]
  },
  {
   "cell_type": "markdown",
   "metadata": {},
   "source": [
    "#### 2014-11-09 (Sunday Afternoon Football)"
   ]
  },
  {
   "cell_type": "code",
   "execution_count": 6,
   "metadata": {},
   "outputs": [
    {
     "data": {
      "text/html": [
       "<div>\n",
       "<style scoped>\n",
       "    .dataframe tbody tr th:only-of-type {\n",
       "        vertical-align: middle;\n",
       "    }\n",
       "\n",
       "    .dataframe tbody tr th {\n",
       "        vertical-align: top;\n",
       "    }\n",
       "\n",
       "    .dataframe thead th {\n",
       "        text-align: right;\n",
       "    }\n",
       "</style>\n",
       "<table border=\"1\" class=\"dataframe\">\n",
       "  <thead>\n",
       "    <tr style=\"text-align: right;\">\n",
       "      <th></th>\n",
       "      <th>Time</th>\n",
       "      <th>Total Number of Crimes</th>\n",
       "    </tr>\n",
       "  </thead>\n",
       "  <tbody>\n",
       "    <tr>\n",
       "      <td>0</td>\n",
       "      <td>11</td>\n",
       "      <td>3</td>\n",
       "    </tr>\n",
       "    <tr>\n",
       "      <td>1</td>\n",
       "      <td>12</td>\n",
       "      <td>5</td>\n",
       "    </tr>\n",
       "    <tr>\n",
       "      <td>2</td>\n",
       "      <td>13</td>\n",
       "      <td>8</td>\n",
       "    </tr>\n",
       "    <tr>\n",
       "      <td>3</td>\n",
       "      <td>14</td>\n",
       "      <td>3</td>\n",
       "    </tr>\n",
       "    <tr>\n",
       "      <td>4</td>\n",
       "      <td>15</td>\n",
       "      <td>9</td>\n",
       "    </tr>\n",
       "    <tr>\n",
       "      <td>5</td>\n",
       "      <td>16</td>\n",
       "      <td>11</td>\n",
       "    </tr>\n",
       "    <tr>\n",
       "      <td>6</td>\n",
       "      <td>17</td>\n",
       "      <td>6</td>\n",
       "    </tr>\n",
       "  </tbody>\n",
       "</table>\n",
       "</div>"
      ],
      "text/plain": [
       "  Time  Total Number of Crimes\n",
       "0   11                       3\n",
       "1   12                       5\n",
       "2   13                       8\n",
       "3   14                       3\n",
       "4   15                       9\n",
       "5   16                      11\n",
       "6   17                       6"
      ]
     },
     "execution_count": 6,
     "metadata": {},
     "output_type": "execute_result"
    }
   ],
   "source": [
    "#Total Number of Crimes - 2014-11-09 between Hours 11-17\n",
    "crimedate2 = crimedatanew.loc[crimedata[\"Date\"] == \"2014-11-09\"]\n",
    "crimedate2 = crimedate2[[\"Date\"]].groupby(crimedate2[\"Time\"]).agg(\"count\")\n",
    "crimedate2 = crimedate2.reset_index()\n",
    "crimedate2.columns = [\"Time\", \"Total Number of Crimes\"]\n",
    "crimedate2"
   ]
  },
  {
   "cell_type": "code",
   "execution_count": 7,
   "metadata": {},
   "outputs": [
    {
     "data": {
      "text/plain": [
       "Text(0.5, 1.0, 'Total Number of Crimes 2 Hrs Before, During, & 2 Hrs After the 2014-11-09 Ravens Game')"
      ]
     },
     "execution_count": 7,
     "metadata": {},
     "output_type": "execute_result"
    },
    {
     "data": {
      "image/png": "[encoded data removed]",
      "text/plain": [
       "<Figure size 432x288 with 1 Axes>"
      ]
     },
     "metadata": {
      "needs_background": "light"
     },
     "output_type": "display_data"
    }
   ],
   "source": [
    "#2014-11-09 Graph\n",
    "plt.scatter(crimedate2[\"Time\"], crimedate2[\"Total Number of Crimes\"])\n",
    "plt.xlabel('Time in Hours (24-hr)')\n",
    "plt.ylabel('Total Number of Crimes (Sunday Afternoon)')\n",
    "plt.title('Total Number of Crimes 2 Hrs Before, During, & 2 Hrs After the 2014-11-09 Ravens Game')"
   ]
  },
  {
   "cell_type": "markdown",
   "metadata": {},
   "source": [
    "### Crime Numbers Not During Baltimore Ravens Football Games (i.e. Not Sunday Afternoon) (Control Events)"
   ]
  },
  {
   "cell_type": "markdown",
   "metadata": {},
   "source": [
    "From the Baltimore Ravens Schedule 2014 Dataframe, we see that there at least are two games that did not occur on Sunday Afternoons, the usual day that the Baltimore Ravens would play. We will be using the Sunday Afternoons where no game took place as control events to answer our Research Question. I chose Sunday Afternoon Dates that were closest to the same week in which a Football game occurred. \n",
    "<br>\n",
    "<br>\n",
    "These dates are:\n",
    "<br>\n",
    "<br>\n",
    "2014-09-14 (Sun) which is closest to 2014-09-11 (Thurs) Game\n",
    "<br>\n",
    "2014-11-23 (Sun) which is closest to the 2014-11-24 (Mon) Game\n",
    "<br>\n",
    "<br>\n",
    "Because these games did not occur on a normal Sunday Afternoon and are control events, I wanted to look at the same range of time in hours during a normal Football game so that we can calculate the percent change at the very end to see if the presence of football games are associated the number of crime reports in Baltimore, Maryland (i.e. Hours 11-17 on a 24-Hr).\n",
    "<br>\n",
    "<br>\n",
    "(Reference the 'baltrav' dataset)\n",
    "<br>\n",
    "<br>\n",
    "The same method was used where we used the 24-Hr format to create a dataframe with Hours 11-17. Then, we grouped the dataframe by Time in 24-Hr format to see the Total Number of Crimes that occurred during each specific hour. To display the results, we used a scatterplot."
   ]
  },
  {
   "cell_type": "markdown",
   "metadata": {},
   "source": [
    "#### 2014-09-14 (No Sunday Afternoon Football Game) (Control Event)"
   ]
  },
  {
   "cell_type": "code",
   "execution_count": 16,
   "metadata": {},
   "outputs": [
    {
     "data": {
      "text/html": [
       "<div>\n",
       "<style scoped>\n",
       "    .dataframe tbody tr th:only-of-type {\n",
       "        vertical-align: middle;\n",
       "    }\n",
       "\n",
       "    .dataframe tbody tr th {\n",
       "        vertical-align: top;\n",
       "    }\n",
       "\n",
       "    .dataframe thead th {\n",
       "        text-align: right;\n",
       "    }\n",
       "</style>\n",
       "<table border=\"1\" class=\"dataframe\">\n",
       "  <thead>\n",
       "    <tr style=\"text-align: right;\">\n",
       "      <th></th>\n",
       "      <th>Time</th>\n",
       "      <th>Total Number of Crimes</th>\n",
       "    </tr>\n",
       "  </thead>\n",
       "  <tbody>\n",
       "    <tr>\n",
       "      <td>0</td>\n",
       "      <td>11</td>\n",
       "      <td>4</td>\n",
       "    </tr>\n",
       "    <tr>\n",
       "      <td>1</td>\n",
       "      <td>12</td>\n",
       "      <td>5</td>\n",
       "    </tr>\n",
       "    <tr>\n",
       "      <td>2</td>\n",
       "      <td>13</td>\n",
       "      <td>2</td>\n",
       "    </tr>\n",
       "    <tr>\n",
       "      <td>3</td>\n",
       "      <td>14</td>\n",
       "      <td>6</td>\n",
       "    </tr>\n",
       "    <tr>\n",
       "      <td>4</td>\n",
       "      <td>15</td>\n",
       "      <td>5</td>\n",
       "    </tr>\n",
       "    <tr>\n",
       "      <td>5</td>\n",
       "      <td>16</td>\n",
       "      <td>4</td>\n",
       "    </tr>\n",
       "    <tr>\n",
       "      <td>6</td>\n",
       "      <td>17</td>\n",
       "      <td>11</td>\n",
       "    </tr>\n",
       "  </tbody>\n",
       "</table>\n",
       "</div>"
      ],
      "text/plain": [
       "  Time  Total Number of Crimes\n",
       "0   11                       4\n",
       "1   12                       5\n",
       "2   13                       2\n",
       "3   14                       6\n",
       "4   15                       5\n",
       "5   16                       4\n",
       "6   17                      11"
      ]
     },
     "execution_count": 16,
     "metadata": {},
     "output_type": "execute_result"
    }
   ],
   "source": [
    "#Total Number of Crimes - 2014-09-07 between Hours 11-17\n",
    "crimedate5 = crimedatanew.loc[crimedatanew[\"Date\"] == \"2014-09-14\"]\n",
    "crimedate5 = crimedate5[[\"Date\"]].groupby(crimedate5[\"Time\"]).agg(\"count\")\n",
    "crimedate5 = crimedate5.reset_index()\n",
    "crimedate5.columns = [\"Time\", \"Total Number of Crimes\"]\n",
    "crimedate5"
   ]
  },
  {
   "cell_type": "code",
   "execution_count": 17,
   "metadata": {
    "scrolled": true
   },
   "outputs": [
    {
     "data": {
      "text/plain": [
       "Text(0.5, 1.0, 'Total Number of Crimes with No Sunday Afternoon Football Game Occurring')"
      ]
     },
     "execution_count": 17,
     "metadata": {},
     "output_type": "execute_result"
    },
    {
     "data": {
      "image/png": "[encoded data removed]",
      "text/plain": [
       "<Figure size 432x288 with 1 Axes>"
      ]
     },
     "metadata": {
      "needs_background": "light"
     },
     "output_type": "display_data"
    }
   ],
   "source": [
    "#2014-09-07 Graph\n",
    "plt.scatter(crimedate5[\"Time\"], crimedate5[\"Total Number of Crimes\"])\n",
    "plt.xlabel('Time in Hours (24-hr)')\n",
    "plt.ylabel('Total Number of Crimes (Sunday Afternoon)')\n",
    "plt.title('Total Number of Crimes with No Sunday Afternoon Football Game Occurring')"
   ]
  },
  {
   "cell_type": "markdown",
   "metadata": {},
   "source": [
    "#### 2014-11-23 (No Sunday Afternoon Football Game) (Control Event)"
   ]
  },
  {
   "cell_type": "code",
   "execution_count": 18,
   "metadata": {},
   "outputs": [
    {
     "data": {
      "text/html": [
       "<div>\n",
       "<style scoped>\n",
       "    .dataframe tbody tr th:only-of-type {\n",
       "        vertical-align: middle;\n",
       "    }\n",
       "\n",
       "    .dataframe tbody tr th {\n",
       "        vertical-align: top;\n",
       "    }\n",
       "\n",
       "    .dataframe thead th {\n",
       "        text-align: right;\n",
       "    }\n",
       "</style>\n",
       "<table border=\"1\" class=\"dataframe\">\n",
       "  <thead>\n",
       "    <tr style=\"text-align: right;\">\n",
       "      <th></th>\n",
       "      <th>Time</th>\n",
       "      <th>Total Number of Crimes</th>\n",
       "    </tr>\n",
       "  </thead>\n",
       "  <tbody>\n",
       "    <tr>\n",
       "      <td>0</td>\n",
       "      <td>11</td>\n",
       "      <td>7</td>\n",
       "    </tr>\n",
       "    <tr>\n",
       "      <td>1</td>\n",
       "      <td>12</td>\n",
       "      <td>9</td>\n",
       "    </tr>\n",
       "    <tr>\n",
       "      <td>2</td>\n",
       "      <td>13</td>\n",
       "      <td>5</td>\n",
       "    </tr>\n",
       "    <tr>\n",
       "      <td>3</td>\n",
       "      <td>14</td>\n",
       "      <td>8</td>\n",
       "    </tr>\n",
       "    <tr>\n",
       "      <td>4</td>\n",
       "      <td>15</td>\n",
       "      <td>3</td>\n",
       "    </tr>\n",
       "    <tr>\n",
       "      <td>5</td>\n",
       "      <td>16</td>\n",
       "      <td>6</td>\n",
       "    </tr>\n",
       "    <tr>\n",
       "      <td>6</td>\n",
       "      <td>17</td>\n",
       "      <td>6</td>\n",
       "    </tr>\n",
       "  </tbody>\n",
       "</table>\n",
       "</div>"
      ],
      "text/plain": [
       "  Time  Total Number of Crimes\n",
       "0   11                       7\n",
       "1   12                       9\n",
       "2   13                       5\n",
       "3   14                       8\n",
       "4   15                       3\n",
       "5   16                       6\n",
       "6   17                       6"
      ]
     },
     "execution_count": 18,
     "metadata": {},
     "output_type": "execute_result"
    }
   ],
   "source": [
    "#Total Number of Crimes - 2014-11-23 between Hours 11-17\n",
    "crimedate6 = crimedatanew.loc[crimedatanew[\"Date\"] == \"2014-11-23\"]\n",
    "crimedate6 = crimedate6[[\"Date\"]].groupby(crimedate6[\"Time\"]).agg(\"count\")\n",
    "crimedate6 = crimedate6.reset_index()\n",
    "crimedate6.columns = [\"Time\", \"Total Number of Crimes\"]\n",
    "crimedate6"
   ]
  },
  {
   "cell_type": "code",
   "execution_count": 19,
   "metadata": {},
   "outputs": [
    {
     "data": {
      "text/plain": [
       "Text(0.5, 1.0, 'Total Number of Crimes with No Sunday Afternoon Football Game Occurring')"
      ]
     },
     "execution_count": 19,
     "metadata": {},
     "output_type": "execute_result"
    },
    {
     "data": {
      "image/png": "[encoded data removed]",
      "text/plain": [
       "<Figure size 432x288 with 1 Axes>"
      ]
     },
     "metadata": {
      "needs_background": "light"
     },
     "output_type": "display_data"
    }
   ],
   "source": [
    "#2014-11-17 Graph\n",
    "plt.scatter(crimedate5[\"Time\"], crimedate5[\"Total Number of Crimes\"])\n",
    "plt.xlabel('Time in Hours (24-hr)')\n",
    "plt.ylabel('Total Number of Crimes (Sunday Afternoon)')\n",
    "plt.title('Total Number of Crimes with No Sunday Afternoon Football Game Occurring')"
   ]
  },
  {
   "cell_type": "markdown",
   "metadata": {},
   "source": [
    "#### Calculating Percent Change in Total Number of Crime Reports"
   ]
  },
  {
   "cell_type": "markdown",
   "metadata": {},
   "source": [
    "The following is how the percent increase/decrease was calculated when comparing the Total Number of Crimes on Sunday Afternoon while a Football Game is occurring vs. the Total Number of Crimes on Sunday Afternoon while a Football Game is not occurring:\n",
    "<br>\n",
    "<br>\n",
    "Formula's Used:\n",
    "#### % Increase\n",
    "Increase = New Number - Original Number\n",
    "<br>\n",
    "% Increase = Increase/Original Number * 100\n",
    "<br>\n",
    "#### % Decrease\n",
    "Decrease = Original Number - New Number\n",
    "<br>\n",
    "% Decrease = Decrease/Original Number * 100\n",
    "<br>"
   ]
  },
  {
   "cell_type": "markdown",
   "metadata": {},
   "source": [
    "#### Percent Change for Total Number of Sunday Afternoon Crime Reports for 2014-09-07 (Game) and 2014-09-14 (No Game - Control)"
   ]
  },
  {
   "cell_type": "markdown",
   "metadata": {},
   "source": [
    "HR 11: 20% Decrease\n",
    "<br>\n",
    "HR 12: 44.4% Decrease\n",
    "<br>\n",
    "HR 13: 71.4% Decrease\n",
    "<br>\n",
    "HR 14: 100% Increase\n",
    "<br>\n",
    "HR 15: 50% Decrease\n",
    "<br>\n",
    "HR 16: 50% Decrease\n",
    "<br>\n",
    "HR 17: 0% Increase/Decrease\n",
    "<br>"
   ]
  },
  {
   "cell_type": "markdown",
   "metadata": {},
   "source": [
    "#### Percent Change for Total Number of Sunday Afternoon Crime Reports for 2014-11-09 (Game) and 2014-11-23 (No Game - Control)"
   ]
  },
  {
   "cell_type": "markdown",
   "metadata": {},
   "source": [
    "HR 11: 133.3% Increase\n",
    "<br>\n",
    "HR 12: 80% Increase\n",
    "<br>\n",
    "HR 13: 37.5% Decrease\n",
    "<br>\n",
    "HR 14: 166.7% Increase\n",
    "<br>\n",
    "HR 15: 66.7% Decrease\n",
    "<br>\n",
    "HR 16: 45.5% Decrease\n",
    "<br>\n",
    "HR 17: 0% Increase/Decrease\n",
    "<br>"
   ]
  },
  {
   "cell_type": "markdown",
   "metadata": {},
   "source": [
    "#### Works Cited:\n",
    "“Crime Report 2013”, Accessed from https://data.baltimorecity.gov/Public-Safety/Crime-Report-2013/d8wr-cji4 on April 24, 2020.\n",
    "\n",
    "“2014 Baltimore Ravens Statistics & Players\", Accessed from https://www.pro-football-reference.com/teams/rav/2014.htm on April 24, 2020.\n",
    "\n",
    "#### Explanation of Data:\n",
    "The first dataset is titled Crime Report 2013 and is an Open Dataset crime dataset that includes Victim based crime data. The dataset is split describes the time in which the crime was reported as well as details describing the location of the crime, neighborhood, and etc.\n",
    "<br>\n",
    "<br>\n",
    "The second dataset is titled 2014 Baltimore Ravens Statistics & Players. The dataset was given as a CSV in which it was pasted into an Excel document and saved as a CSV file. This dataset describes the full schedule of the Baltimore Ravens Football Games that occurred in the year 2014.\n",
    "\n",
    "#### Description of Results:\n",
    "The way that I gathered my results was by reading in the csv's of both datasets. In order to answer the research question successfully, I had to create new dataframes that only incldued the datetime objects of when the crime occurred within the specified dates and hours of the Baltimore Raven's Football Game. As mentioned earlier, I used the 24-Hr format and created a dataframe for all dates with two hours before (Hours 11-12), the time during the game (around 3 hours) (Hours 13-15), and two hours after (Hours 16-17), whether or not an actual game was occuring. Then, I grouped the dataframe by Time in 24-Hr format to see the Total Number of Crimes that occurred during each specific hour. To display the results, a scatterplot was used.\n",
    "<br>\n",
    "<br>\n",
    "I also used a % Increase and % Decrease formula to observe the percent changes in the number of Crime Reports in Baltimore, Maryland when comparing dates where a Football Game occurred to dates where a Football Game did not occur (i.e. the control).\n",
    "\n",
    "#### Summary of Results:\n",
    "We are able to interpret the Crime Report % changes calculated above. First, when comparing the number of Crimes on 2014-09-07 (Game) and 2014-09-14 (No Game - Control), we can see that for a majority of the hours (i.e. 11-17), the total number of crimes that were reported in the Baltimore, Maryland area significantly decreased on the Non-Game Day. However, we see a spike in HR 14 (i.e. around 2PM) where the number of crimes increased dramatically by 100%. Soon after, the number of crime reports decreased again by 50% within the next hour. Another interesting factor was seeing that there was a 0% Increase/Decrease in the number of Crime Reports in HR 17 (i.e. around 5PM). \n",
    "<br>\n",
    "<br>\n",
    "When comparing the number of Crimes on 2014-11-09 (Game) and 2014-11-23 (No Game - Control), we can see that within the first hour there is a large % increase in the number of crime reports, reaching over 100% on a Non-Game Day. There remains an increase in the number of reports within HR 12, however, the increase is not as large as HR 11. Soon after, the number of Crime reports begin to decrease, however, there is another spike in HR 14, where the number of Crime reports reaches over 100% on a Non-Game Day. For HR 15 and 16, the number of crime reports decreases again and similar to the first comparison, there is a 0% Increase/Decrease in the number of Crime reports in HR 17 (i.e. around 5PM)\n",
    "\n",
    "#### Take-away Message:\n",
    "The main take-away message after interpreting our results is that we can mostly conclude that there is a large difference in the number of Crime reports on a Ravens Football Game Day vs. a Non-Game Day. The first comparison showcases that there is a large decrease in the number of Crime Reports on a Non-Game Day (2014-09-14) when compared to the regular Sunday Afternoon Game Day (2014-09-07). However, within the second comparison, although there are specific hours in which the Crime Reports decrease on a Non-Game Day (2014-11-23) when compared to a regular Sunday Afternoon Game Day (2014-11-09), the increases in specific hours outweigh the percentage of decrease. Since many of these percent increases spike over 100%, we can conclude that the number of Crime Reports has increased drastically, with more crime reports occuring on a Non-Game Day (2014-11-23).\n",
    "<br>\n",
    "<br>\n",
    "When looking at both of these comparisons together, I believe we can not make a definite conclusion as to whether or not the occurance of Football Games directly affects the number of Crime Reports in Baltimore, Maryland. Although it may have some influence, it could also just be a coincedence. One would need to investigate futhur at other external factors to see if there is a direct correlation between the total number of crime reports in a given hour on days where football games occur/do not occur.\n",
    "\n",
    "#### Limitations:\n",
    "A major limitation is that we are only observing the year 2014 and the relationship between Crime Report incidents in Baltimore, Maryland within this designated Year. Within that, we have only selected two dates. In order to truly look at the relationship between Crime Report Incidents and Football Games, it would be better to look at a wide range of Reports in several given years, such as years 2010-2019. In addition, another limitation of the datasets was the presence of missing values, especially within the Crime Report 2013 dataset. There are several crimes that do not have dates, which could mean that the number of reports in the specified year that we are looking at (i.e. 2014) could either be less or even more than the actual number that appeared in the dataset. In addition, a limitation of the 2014 Baltimore Ravens Statistics & Players dataset was the lack of consistency between datetime values. Therefore, it was needed to coerce all errors and transform the time into the desired format.\n"
   ]
  }
 ],
 "metadata": {
  "kernelspec": {
   "display_name": "Python 3",
   "language": "python",
   "name": "python3"
  },
  "language_info": {
   "codemirror_mode": {
    "name": "ipython",
    "version": 3
   },
   "file_extension": ".py",
   "mimetype": "text/x-python",
   "name": "python",
   "nbconvert_exporter": "python",
   "pygments_lexer": "ipython3",
   "version": "3.8.3"
  }
 },
 "nbformat": 4,
 "nbformat_minor": 2
}
